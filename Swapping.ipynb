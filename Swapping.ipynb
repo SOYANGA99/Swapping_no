{
 "cells": [
  {
   "cell_type": "code",
   "execution_count": 5,
   "id": "79fbbce1",
   "metadata": {},
   "outputs": [
    {
     "name": "stdout",
     "output_type": "stream",
     "text": [
      "after swapping:- 6\n",
      "after swapping:- 5\n"
     ]
    }
   ],
   "source": [
    "a=5\n",
    "b=6\n",
    "c=a\n",
    "a=b\n",
    "b=c\n",
    "\n",
    "print(\"after swapping:-\",a)\n",
    "print(\"after swapping:-\",b)"
   ]
  },
  {
   "cell_type": "code",
   "execution_count": null,
   "id": "804ce74d",
   "metadata": {},
   "outputs": [],
   "source": [
    "\n",
    "\n",
    "\n",
    "\n",
    "\n",
    "\n"
   ]
  }
 ],
 "metadata": {
  "kernelspec": {
   "display_name": "Python 3 (ipykernel)",
   "language": "python",
   "name": "python3"
  },
  "language_info": {
   "codemirror_mode": {
    "name": "ipython",
    "version": 3
   },
   "file_extension": ".py",
   "mimetype": "text/x-python",
   "name": "python",
   "nbconvert_exporter": "python",
   "pygments_lexer": "ipython3",
   "version": "3.9.7"
  }
 },
 "nbformat": 4,
 "nbformat_minor": 5
}
